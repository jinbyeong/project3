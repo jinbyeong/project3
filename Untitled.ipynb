{
 "cells": [
  {
   "cell_type": "code",
   "execution_count": 1,
   "id": "35c853f7",
   "metadata": {
    "ExecuteTime": {
     "end_time": "2021-10-08T11:54:28.790075Z",
     "start_time": "2021-10-08T11:54:27.470729Z"
    }
   },
   "outputs": [
    {
     "data": {
      "text/plain": [
       "((1086, 6), (272, 6))"
      ]
     },
     "execution_count": 1,
     "metadata": {},
     "output_type": "execute_result"
    }
   ],
   "source": [
    "import pandas as pd\n",
    "from sklearn.model_selection import train_test_split\n",
    "\n",
    "\n",
    "\n",
    "\n",
    "df = pd.read_csv('data.csv')\n",
    "target = 'count'\n",
    "feature = df.drop(['date',target],axis=1).columns\n",
    "\n",
    "train, test = train_test_split(df,random_state=2,train_size=0.8)\n",
    "train.shape,test.shape"
   ]
  },
  {
   "cell_type": "code",
   "execution_count": 2,
   "id": "46de79af",
   "metadata": {
    "ExecuteTime": {
     "end_time": "2021-10-08T11:54:28.819890Z",
     "start_time": "2021-10-08T11:54:28.797320Z"
    }
   },
   "outputs": [
    {
     "data": {
      "text/plain": [
       "((868, 6), (218, 6))"
      ]
     },
     "execution_count": 2,
     "metadata": {},
     "output_type": "execute_result"
    }
   ],
   "source": [
    "train, val = train_test_split(train,random_state=2,train_size=0.8)\n",
    "train.shape,val.shape"
   ]
  },
  {
   "cell_type": "code",
   "execution_count": 3,
   "id": "6dce42dc",
   "metadata": {
    "ExecuteTime": {
     "end_time": "2021-10-08T11:54:28.834854Z",
     "start_time": "2021-10-08T11:54:28.820987Z"
    }
   },
   "outputs": [],
   "source": [
    "X_train = train[feature]\n",
    "y_train = train[target]\n",
    "X_val = val[feature]\n",
    "y_val = val[target]\n",
    "X_test = test[feature]\n",
    "y_test = test[target]"
   ]
  },
  {
   "cell_type": "code",
   "execution_count": 4,
   "id": "ec7dbc37",
   "metadata": {
    "ExecuteTime": {
     "end_time": "2021-10-08T11:54:29.014914Z",
     "start_time": "2021-10-08T11:54:28.835856Z"
    },
    "scrolled": true
   },
   "outputs": [
    {
     "name": "stdout",
     "output_type": "stream",
     "text": [
      "훈련 평가지표\n",
      "xgboost_model r2 :  0.9968320696133938\n",
      "검증 평가지표\n",
      "xgboost_model r2 :  0.5921421838124188\n"
     ]
    }
   ],
   "source": [
    "from xgboost import XGBRegressor\n",
    "from sklearn.metrics import r2_score\n",
    "xgboost_model = XGBRegressor()\n",
    "xgboost_model.fit(X_train,y_train)\n",
    "\n",
    "\n",
    "#XGBregression 평가지표 \n",
    "print('훈련 평가지표')\n",
    "print('xgboost_model r2 : ',r2_score(y_train,xgboost_model.predict(X_train)))\n",
    "print('검증 평가지표')\n",
    "print('xgboost_model r2 : ',r2_score(y_val,xgboost_model.predict(X_val)))"
   ]
  },
  {
   "cell_type": "code",
   "execution_count": 6,
   "id": "2f18b0a2",
   "metadata": {
    "ExecuteTime": {
     "end_time": "2021-10-08T11:55:40.830695Z",
     "start_time": "2021-10-08T11:55:31.181402Z"
    }
   },
   "outputs": [
    {
     "name": "stdout",
     "output_type": "stream",
     "text": [
      "Collecting lightgbm\n",
      "  Downloading lightgbm-3.2.1-py3-none-win_amd64.whl (1.0 MB)\n",
      "Requirement already satisfied: wheel in c:\\users\\parkj\\anaconda3\\lib\\site-packages (from lightgbm) (0.36.2)\n",
      "Requirement already satisfied: scikit-learn!=0.22.0 in c:\\users\\parkj\\anaconda3\\lib\\site-packages (from lightgbm) (0.24.1)\n",
      "Requirement already satisfied: scipy in c:\\users\\parkj\\anaconda3\\lib\\site-packages (from lightgbm) (1.6.2)\n",
      "Requirement already satisfied: numpy in c:\\users\\parkj\\anaconda3\\lib\\site-packages (from lightgbm) (1.20.1)\n",
      "Requirement already satisfied: threadpoolctl>=2.0.0 in c:\\users\\parkj\\anaconda3\\lib\\site-packages (from scikit-learn!=0.22.0->lightgbm) (2.1.0)\n",
      "Requirement already satisfied: joblib>=0.11 in c:\\users\\parkj\\anaconda3\\lib\\site-packages (from scikit-learn!=0.22.0->lightgbm) (1.0.1)\n",
      "Installing collected packages: lightgbm\n",
      "Successfully installed lightgbm-3.2.1\n",
      "훈련 평가지표\n",
      "lgb_model r2 :  0.907284767455594\n",
      "검증 평가지표\n",
      "xgboost_model r2 :  0.6473413429090928\n"
     ]
    }
   ],
   "source": [
    "!pip install lightgbm\n",
    "from lightgbm import LGBMRegressor\n",
    "lgb_model = LGBMRegressor()\n",
    "lgb_model.fit(X_train, y_train)\n",
    "\n",
    "print('훈련 평가지표')\n",
    "print('lgb_model r2 : ',r2_score(y_train,lgb_model.predict(X_train)))\n",
    "print('검증 평가지표')\n",
    "print('xgboost_model r2 : ',r2_score(y_val,lgb_model.predict(X_val)))"
   ]
  },
  {
   "cell_type": "code",
   "execution_count": 7,
   "id": "5eef3751",
   "metadata": {
    "ExecuteTime": {
     "end_time": "2021-10-08T11:56:29.172424Z",
     "start_time": "2021-10-08T11:56:01.482978Z"
    }
   },
   "outputs": [
    {
     "name": "stdout",
     "output_type": "stream",
     "text": [
      "Best parameters: {'gamma': 0.0, 'learning_rate': 0.05, 'max_depth': 4, 'min_child_weight': 7}\n",
      "훈련 평가지표\n",
      "xgboost_model r2 :  0.775150174806909\n",
      "테스트 평가지표\n",
      "xgboost_model r2 :  0.6934450357209212\n"
     ]
    }
   ],
   "source": [
    "from sklearn.model_selection import GridSearchCV\n",
    "\n",
    "\n",
    "train, test = train_test_split(df,random_state=40,train_size=0.8)\n",
    "\n",
    "X_train = train[feature]\n",
    "y_train = train[target]\n",
    "X_test = test[feature]\n",
    "y_test = test[target]\n",
    "\n",
    "\n",
    "params = {\"learning_rate\": (0.05, 0.10, 0.15),\n",
    "          \"max_depth\": [ 3, 4, 5, 6, 8],        \n",
    "          \"min_child_weight\": [ 1, 3, 5, 7],                        \n",
    "          \"gamma\":[ 0.0, 0.1, 0.2]}\n",
    "\n",
    "clf = GridSearchCV(estimator=xgboost_model, \n",
    "                   param_grid=params,\n",
    "                   cv=3,\n",
    "                   scoring='r2',\n",
    "                   verbose=0, \n",
    "                   n_jobs=-1                \n",
    "                  )\n",
    "\n",
    "clf.fit(X_train, y_train)\n",
    "print(\"Best parameters:\", clf.best_params_)\n",
    "\n",
    "grid_model = clf.best_estimator_\n",
    "print('훈련 평가지표')\n",
    "print('xgboost_model r2 : ',r2_score(y_train,grid_model.predict(X_train)))\n",
    "print('테스트 평가지표')\n",
    "print('xgboost_model r2 : ',r2_score(y_test,grid_model.predict(X_test)))"
   ]
  },
  {
   "cell_type": "code",
   "execution_count": 9,
   "id": "62d8f2aa",
   "metadata": {
    "ExecuteTime": {
     "end_time": "2021-10-08T12:01:38.519515Z",
     "start_time": "2021-10-08T12:00:58.918058Z"
    }
   },
   "outputs": [
    {
     "name": "stdout",
     "output_type": "stream",
     "text": [
      "Best parameters: {'learning_rate': 0.1, 'max_depth': -1, 'n_estimators': 50, 'num_leaves': 7}\n",
      "훈련 평가지표\n",
      "xgboost_model r2 :  0.7511630365874991\n",
      "테스트 평가지표\n",
      "xgboost_model r2 :  0.6980710004798563\n"
     ]
    }
   ],
   "source": [
    "train, test = train_test_split(df,random_state=40,train_size=0.8)\n",
    "\n",
    "X_train = train[feature]\n",
    "y_train = train[target]\n",
    "X_test = test[feature]\n",
    "y_test = test[target]\n",
    "\n",
    "\n",
    "params = {\n",
    "    'num_leaves': [7, 14, 21, 28, 31, 50],\n",
    "    'learning_rate': [0.1, 0.03, 0.003],\n",
    "    'max_depth': [-1, 3, 5],\n",
    "    'n_estimators': [50, 100, 200, 500]\n",
    "}\n",
    "\n",
    "clf = GridSearchCV(estimator=lgb_model, \n",
    "                   param_grid=params,\n",
    "                   cv=3,\n",
    "                   scoring='r2',\n",
    "                   verbose=0, \n",
    "                   n_jobs=-1                \n",
    "                  )\n",
    "\n",
    "clf.fit(X_train, y_train)\n",
    "print(\"Best parameters:\", clf.best_params_)\n",
    "\n",
    "grid_model = clf.best_estimator_\n",
    "print('훈련 평가지표')\n",
    "print('xgboost_model r2 : ',r2_score(y_train,grid_model.predict(X_train)))\n",
    "print('테스트 평가지표')\n",
    "print('xgboost_model r2 : ',r2_score(y_test,grid_model.predict(X_test)))"
   ]
  },
  {
   "cell_type": "code",
   "execution_count": 11,
   "id": "430791f8",
   "metadata": {
    "ExecuteTime": {
     "end_time": "2021-10-08T12:03:44.659254Z",
     "start_time": "2021-10-08T12:03:44.642458Z"
    }
   },
   "outputs": [
    {
     "data": {
      "text/plain": [
       "['lgbm.pkl']"
      ]
     },
     "execution_count": 11,
     "metadata": {},
     "output_type": "execute_result"
    }
   ],
   "source": [
    "import joblib \n",
    "joblib.dump(grid_model, 'lgbm.pkl')"
   ]
  },
  {
   "cell_type": "code",
   "execution_count": 12,
   "id": "1523ffc9",
   "metadata": {
    "ExecuteTime": {
     "end_time": "2021-10-08T12:04:01.905696Z",
     "start_time": "2021-10-08T12:04:01.890767Z"
    }
   },
   "outputs": [],
   "source": [
    "model = joblib.load('lgbm.pkl')"
   ]
  },
  {
   "cell_type": "code",
   "execution_count": 22,
   "id": "4b46a843",
   "metadata": {
    "ExecuteTime": {
     "end_time": "2021-10-08T12:08:59.231869Z",
     "start_time": "2021-10-08T12:08:59.216983Z"
    }
   },
   "outputs": [
    {
     "data": {
      "text/plain": [
       "array([3499.43894305])"
      ]
     },
     "execution_count": 22,
     "metadata": {},
     "output_type": "execute_result"
    }
   ],
   "source": [
    "model.predict(X_train.iloc[[0]])"
   ]
  }
 ],
 "metadata": {
  "kernelspec": {
   "display_name": "Python 3",
   "language": "python",
   "name": "python3"
  },
  "language_info": {
   "codemirror_mode": {
    "name": "ipython",
    "version": 3
   },
   "file_extension": ".py",
   "mimetype": "text/x-python",
   "name": "python",
   "nbconvert_exporter": "python",
   "pygments_lexer": "ipython3",
   "version": "3.8.8"
  }
 },
 "nbformat": 4,
 "nbformat_minor": 5
}
