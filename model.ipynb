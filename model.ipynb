{
 "cells": [
  {
   "cell_type": "code",
   "execution_count": null,
   "metadata": {
    "ExecuteTime": {
     "end_time": "2021-10-08T09:33:38.886246Z",
     "start_time": "2021-10-08T09:33:38.164499Z"
    },
    "collapsed": true
   },
   "outputs": [],
   "source": [
    "\n",
    "##내일 날씨 가져오기.. \n",
    "##return : \n",
    "##{'temp': 23.18, 'wind': 2.27, 'hum': 68.5}\n",
    "def tomweather() : \n",
    "    \n",
    "    import requests\n",
    "    import json\n",
    "    import datetime\n",
    "    import numpy as np\n",
    "    import os\n",
    "    from dotenv import load_dotenv\n",
    "    load_dotenv()\n",
    "    weather_key = os.getenv('WEATHER_KEY')\n",
    "    url = f'https://api.openweathermap.org/data/2.5/forecast?q=Seoul&appid={API_key}&lang=kr'\n",
    "    raw = requests.get(url)\n",
    "    parsed = json.loads(raw.text)\n",
    "\n",
    "    now = datetime.datetime.now()\n",
    "    tom =  str(now.year) +'-'+ str(now.month).zfill(2) +'-'+ str(now.day+1).zfill(2)\n",
    "\n",
    "    temp = np.array([]) #\n",
    "    wind = np.array([]) #m/s\n",
    "    hum = np.array([]) #%\n",
    "    for i in parsed['list']:\n",
    "        if tom in i['dt_txt'] :\n",
    "            temp = np.append(temp, round(i['main']['temp']-273.15,2))\n",
    "            wind = np.append(wind, i['wind']['speed'])\n",
    "            hum = np.append(hum, i['main']['humidity'])\n",
    "    return {'temp' : round(temp.mean(),2), 'wind' : round(wind.mean(),2), 'hum' : round(hum.mean(),2)}\n",
    "\n",
    "tomweather()"
   ]
  },
  {
   "cell_type": "code",
   "execution_count": null,
   "metadata": {
    "ExecuteTime": {
     "end_time": "2021-10-08T09:35:14.301532Z",
     "start_time": "2021-10-08T09:34:57.114570Z"
    },
    "collapsed": true
   },
   "outputs": [],
   "source": [
    "##holyday data\n",
    "##return :\n",
    "## list\n",
    "def holiday() : \n",
    "    import requests\n",
    "    import json\n",
    "    \n",
    "    holiday_key = ''\n",
    "    year_list = [2015,2016,2017,2018]\n",
    "    month_list = ['01','02','03','04','05','06','07','08','09','10','11','12']\n",
    "    holiday = []\n",
    "    for year in year_list :\n",
    "        for month in month_list :\n",
    "            hol_url = f'http://apis.data.go.kr/B090041/openapi/service/SpcdeInfoService/getRestDeInfo?solYear={year}&solMonth={month}&ServiceKey={hol_key}&_type=json'\n",
    "            raw_d = requests.get(hol_url)\n",
    "            par = json.loads(raw_d.text)\n",
    "            try :\n",
    "                holiday.append(par['response']['body']['items']['item']['locdate'])\n",
    "            except :\n",
    "                if par['response']['body']['totalCount']==0 : continue\n",
    "                for i in par['response']['body']['items']['item'] :\n",
    "                    holiday.append(i['locdate'])\n",
    "    return holiday\n",
    "\n",
    "holiday()"
   ]
  }
 ],
 "metadata": {
  "interpreter": {
   "hash": "0af163cd59e6f4c2e2c2c78b7d562bf2b468615012eafe45870efcdd8016c63a"
  },
  "kernelspec": {
   "display_name": "Python 3.8.11 64-bit ('p3': conda)",
   "name": "python3"
  },
  "language_info": {
   "codemirror_mode": {
    "name": "ipython",
    "version": 3
   },
   "file_extension": ".py",
   "mimetype": "text/x-python",
   "name": "python",
   "nbconvert_exporter": "python",
   "pygments_lexer": "ipython3",
   "version": "3.8.11"
  }
 },
 "nbformat": 4,
 "nbformat_minor": 2
}
